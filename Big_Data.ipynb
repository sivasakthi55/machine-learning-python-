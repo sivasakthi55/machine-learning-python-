{
 "cells": [
  {
   "cell_type": "code",
   "execution_count": 2,
   "id": "76efaecf-4da3-4007-9318-37632a7b6859",
   "metadata": {},
   "outputs": [
    {
     "ename": "ModuleNotFoundError",
     "evalue": "No module named 'pyspark'",
     "output_type": "error",
     "traceback": [
      "\u001b[1;31m---------------------------------------------------------------------------\u001b[0m",
      "\u001b[1;31mModuleNotFoundError\u001b[0m                       Traceback (most recent call last)",
      "Cell \u001b[1;32mIn[2], line 9\u001b[0m\n\u001b[0;32m      7\u001b[0m \u001b[38;5;28;01mfrom\u001b[39;00m \u001b[38;5;21;01msklearn\u001b[39;00m\u001b[38;5;21;01m.\u001b[39;00m\u001b[38;5;21;01mensemble\u001b[39;00m \u001b[38;5;28;01mimport\u001b[39;00m RandomForestClassifier\n\u001b[0;32m      8\u001b[0m \u001b[38;5;28;01mfrom\u001b[39;00m \u001b[38;5;21;01msklearn\u001b[39;00m\u001b[38;5;21;01m.\u001b[39;00m\u001b[38;5;21;01mmetrics\u001b[39;00m \u001b[38;5;28;01mimport\u001b[39;00m classification_report, accuracy_score\n\u001b[1;32m----> 9\u001b[0m \u001b[38;5;28;01mfrom\u001b[39;00m \u001b[38;5;21;01mpyspark\u001b[39;00m\u001b[38;5;21;01m.\u001b[39;00m\u001b[38;5;21;01msql\u001b[39;00m \u001b[38;5;28;01mimport\u001b[39;00m SparkSession\n\u001b[0;32m     10\u001b[0m \u001b[38;5;28;01mfrom\u001b[39;00m \u001b[38;5;21;01mpyspark\u001b[39;00m\u001b[38;5;21;01m.\u001b[39;00m\u001b[38;5;21;01msql\u001b[39;00m\u001b[38;5;21;01m.\u001b[39;00m\u001b[38;5;21;01mfunctions\u001b[39;00m \u001b[38;5;28;01mimport\u001b[39;00m col, count, mean, stddev\n\u001b[0;32m     12\u001b[0m \u001b[38;5;66;03m# Initialize Spark Session\u001b[39;00m\n",
      "\u001b[1;31mModuleNotFoundError\u001b[0m: No module named 'pyspark'"
     ]
    }
   ],
   "source": [
    "import pandas as pd\n",
    "import numpy as np\n",
    "import seaborn as sns\n",
    "import matplotlib.pyplot as plt\n",
    "from sklearn.model_selection import train_test_split\n",
    "from sklearn.preprocessing import LabelEncoder, StandardScaler\n",
    "from sklearn.ensemble import RandomForestClassifier\n",
    "from sklearn.metrics import classification_report, accuracy_score\n",
    "from pyspark.sql import SparkSession\n",
    "from pyspark.sql.functions import col, count, mean, stddev\n",
    "\n",
    "# Initialize Spark Session\n",
    "spark = SparkSession.builder.appName(\"Big Data Analysis\").getOrCreate()\n",
    "\n",
    "# Load Dataset using Spark\n",
    "df = spark.read.csv(\"adult.csv\", header=True, inferSchema=True)\n",
    "\n",
    "# Data Preprocessing\n",
    "# Handling missing values\n",
    "df = df.dropna()\n",
    "\n",
    "# Convert categorical columns to numeric\n",
    "for col_name in df.columns:\n",
    "    if dict(df.dtypes)[col_name] == 'string':\n",
    "        df = df.withColumn(col_name, col(col_name).cast(\"string\"))\n",
    "\n",
    "# Summary statistics\n",
    "df.describe().show()\n",
    "\n",
    "# Feature Engineering\n",
    "numeric_features = [col_name for col_name, dtype in df.dtypes if dtype != 'string']\n",
    "categorical_features = [col_name for col_name, dtype in df.dtypes if dtype == 'string']\n",
    "\n",
    "# Aggregation and Grouping Example\n",
    "df.groupBy(\"education\").agg(count(\"income\").alias(\"count\"), mean(\"hoursPerWeek\").alias(\"avg_hours\")).show()\n",
    "\n",
    "# Machine Learning with Spark MLlib\n",
    "from pyspark.ml.feature import StringIndexer, VectorAssembler\n",
    "from pyspark.ml.classification import RandomForestClassifier\n",
    "from pyspark.ml.evaluation import MulticlassClassificationEvaluator\n",
    "\n",
    "# Encode categorical columns\n",
    "indexers = [StringIndexer(inputCol=col_name, outputCol=col_name+\"_index\").fit(df) for col_name in categorical_features]\n",
    "for indexer in indexers:\n",
    "    df = indexer.transform(df)\n",
    "\n",
    "# Assemble Features\n",
    "feature_cols = numeric_features + [col + \"_index\" for col in categorical_features]\n",
    "assembler = VectorAssembler(inputCols=feature_cols, outputCol=\"features\")\n",
    "df = assembler.transform(df)\n",
    "\n",
    "# Split Data\n",
    "train_df, test_df = df.randomSplit([0.8, 0.2], seed=42)\n",
    "\n",
    "# Train Model\n",
    "rf = RandomForestClassifier(featuresCol=\"features\", labelCol=\"income_index\", numTrees=100)\n",
    "model = rf.fit(train_df)\n",
    "\n",
    "# Predictions\n",
    "predictions = model.transform(test_df)\n",
    "\n",
    "# Evaluate Model\n",
    "evaluator = MulticlassClassificationEvaluator(labelCol=\"income_index\", metricName=\"accuracy\")\n",
    "accuracy = evaluator.evaluate(predictions)\n",
    "print(f\"Model Accuracy: {accuracy}\")\n",
    "\n",
    "# Show Sample Predictions\n",
    "predictions.select(\"income_index\", \"prediction\").show(10)\n",
    "\n",
    "# Stop Spark Session\n",
    "spark.stop()"
   ]
  },
  {
   "cell_type": "code",
   "execution_count": null,
   "id": "ad59a11b-58c4-4299-ae4b-a7e7dac699fd",
   "metadata": {},
   "outputs": [],
   "source": []
  }
 ],
 "metadata": {
  "kernelspec": {
   "display_name": "Python 3 (ipykernel)",
   "language": "python",
   "name": "python3"
  },
  "language_info": {
   "codemirror_mode": {
    "name": "ipython",
    "version": 3
   },
   "file_extension": ".py",
   "mimetype": "text/x-python",
   "name": "python",
   "nbconvert_exporter": "python",
   "pygments_lexer": "ipython3",
   "version": "3.12.3"
  }
 },
 "nbformat": 4,
 "nbformat_minor": 5
}
