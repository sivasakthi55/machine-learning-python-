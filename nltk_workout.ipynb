{
 "cells": [
  {
   "cell_type": "code",
   "execution_count": 9,
   "id": "f8b13645-40ce-4e39-ba79-decb18e5a9dc",
   "metadata": {},
   "outputs": [
    {
     "name": "stdout",
     "output_type": "stream",
     "text": [
      "['The', 'Natural', 'Language', 'Toolkit', '(', 'NLTK', ')', 'is', 'a', 'Python', 'programming', 'environment', 'for', 'creating', 'applications', 'for', 'statistical', 'natural', 'language', 'processing', '(', 'NLP', ')', '.']\n",
      "['the', 'natural', 'language', 'toolkit', 'nltk', 'is', 'a', 'python', 'programming', 'environment', 'for', 'creating', 'applications', 'for', 'statistical', 'natural', 'language', 'processing', 'nlp']\n",
      "['natural', 'language', 'toolkit', 'nltk', 'python', 'programming', 'environment', 'creating', 'applications', 'statistical', 'natural', 'language', 'processing', 'nlp']\n",
      "<FreqDist with 12 samples and 14 outcomes>\n",
      "Most common words:\n",
      "natural: 2\n",
      "language: 2\n",
      "toolkit: 1\n",
      "nltk: 1\n",
      "python: 1\n"
     ]
    }
   ],
   "source": [
    "import nltk\n",
    "from nltk.tokenize import word_tokenize\n",
    "from nltk.corpus import stopwords\n",
    "from nltk.probability import FreqDist\n",
    "import string\n",
    "\n",
    "# Sample text\n",
    "text = \"The Natural Language Toolkit (NLTK) is a Python programming environment for creating applications for statistical natural language processing (NLP).\"\n",
    "# Tokenize the text\n",
    "tokens = word_tokenize(text)\n",
    "print(tokens)\n",
    "\n",
    "# Remove punctuation\n",
    "tokens = [token.lower() for token in tokens if token not in string.punctuation]\n",
    "print(tokens)\n",
    "\n",
    "# Remove stopwords\n",
    "stop_words = set(stopwords.words('english'))\n",
    "tokens = [token for token in tokens if token not in stop_words]\n",
    "print(tokens)\n",
    "\n",
    "# Calculate frequency distribution of words\n",
    "freq_dist = FreqDist(tokens)\n",
    "print(freq_dist)\n",
    "\n",
    "# Print the most common words and their frequencies\n",
    "print(\"Most common words:\")\n",
    "for word, frequency in freq_dist.most_common(5):\n",
    "    print(f\"{word}: {frequency}\")\n",
    " "
   ]
  },
  {
   "cell_type": "code",
   "execution_count": null,
   "id": "6a31ec3f-2643-4b9a-8f78-f237719842bb",
   "metadata": {},
   "outputs": [],
   "source": []
  },
  {
   "cell_type": "code",
   "execution_count": null,
   "id": "f8d46d1a-56b4-4251-9016-30da4ccc628a",
   "metadata": {},
   "outputs": [],
   "source": []
  }
 ],
 "metadata": {
  "kernelspec": {
   "display_name": "Python 3 (ipykernel)",
   "language": "python",
   "name": "python3"
  },
  "language_info": {
   "codemirror_mode": {
    "name": "ipython",
    "version": 3
   },
   "file_extension": ".py",
   "mimetype": "text/x-python",
   "name": "python",
   "nbconvert_exporter": "python",
   "pygments_lexer": "ipython3",
   "version": "3.11.4"
  }
 },
 "nbformat": 4,
 "nbformat_minor": 5
}
